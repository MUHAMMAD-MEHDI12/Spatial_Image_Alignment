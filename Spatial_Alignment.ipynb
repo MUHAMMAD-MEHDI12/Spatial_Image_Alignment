{
 "cells": [
  {
   "cell_type": "code",
   "execution_count": 1,
   "id": "91a57d4f",
   "metadata": {},
   "outputs": [],
   "source": [
    "import rioxarray\n",
    "import xarray as xr\n",
    "import numpy as np\n",
    "from PIL import Image"
   ]
  },
  {
   "cell_type": "code",
   "execution_count": 2,
   "id": "2008ccf8",
   "metadata": {},
   "outputs": [],
   "source": [
    "img = Image.open(r\"D:\\Location-of-all-sites-on-Islamabad-map.png\")\n",
    "img_arry = np.array(img)\n",
    "\n",
    "da = xr.DataArray(\n",
    "    img_arry, dims=['y', 'x', 'band'] if img_arry.ndim==3 else('y', 'x')\n",
    ")\n",
    "\n",
    "minX, minY, maxX, maxY = [72.8, 33.6, 73.2, 33.9]\n",
    "height, width = da.shape[0], da.shape[1]\n",
    "\n",
    "x = np.linspace(minX, maxX, width)\n",
    "y = np.linspace(maxY, minY, height)\n",
    "\n",
    "da = da.assign_coords({'x':x, 'y':y})\n",
    "da.rio.write_crs(\"EPSG:4326\", inplace=True)\n",
    "da_transposed = da.transpose(\"band\", 'y', 'x')\n",
    "da_transposed.rio.to_raster(\"Islamabad georeferenced.tif\")"
   ]
  }
 ],
 "metadata": {
  "kernelspec": {
   "display_name": "geo",
   "language": "python",
   "name": "python3"
  },
  "language_info": {
   "codemirror_mode": {
    "name": "ipython",
    "version": 3
   },
   "file_extension": ".py",
   "mimetype": "text/x-python",
   "name": "python",
   "nbconvert_exporter": "python",
   "pygments_lexer": "ipython3",
   "version": "3.12.3"
  }
 },
 "nbformat": 4,
 "nbformat_minor": 5
}
